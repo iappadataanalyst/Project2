{
 "cells": [
  {
   "cell_type": "code",
   "execution_count": 1,
   "metadata": {},
   "outputs": [
    {
     "ename": "ModuleNotFoundError",
     "evalue": "No module named 'api_keys'",
     "output_type": "error",
     "traceback": [
      "\u001b[1;31m---------------------------------------------------------------------------\u001b[0m",
      "\u001b[1;31mModuleNotFoundError\u001b[0m                       Traceback (most recent call last)",
      "\u001b[1;32m<ipython-input-1-da45c90e0c91>\u001b[0m in \u001b[0;36m<module>\u001b[1;34m\u001b[0m\n\u001b[0;32m     13\u001b[0m \u001b[1;33m\u001b[0m\u001b[0m\n\u001b[0;32m     14\u001b[0m \u001b[1;31m# Import API key\u001b[0m\u001b[1;33m\u001b[0m\u001b[1;33m\u001b[0m\u001b[1;33m\u001b[0m\u001b[0m\n\u001b[1;32m---> 15\u001b[1;33m \u001b[1;32mfrom\u001b[0m \u001b[0mapi_keys\u001b[0m \u001b[1;32mimport\u001b[0m \u001b[0mg_key\u001b[0m\u001b[1;33m\u001b[0m\u001b[1;33m\u001b[0m\u001b[0m\n\u001b[0m\u001b[0;32m     16\u001b[0m \u001b[1;32mfrom\u001b[0m \u001b[0mapi_keys\u001b[0m \u001b[1;32mimport\u001b[0m \u001b[0maqi_key\u001b[0m\u001b[1;33m\u001b[0m\u001b[1;33m\u001b[0m\u001b[0m\n",
      "\u001b[1;31mModuleNotFoundError\u001b[0m: No module named 'api_keys'"
     ]
    }
   ],
   "source": [
    "# Dependencies and Setup\n",
    "import matplotlib.pyplot as plt\n",
    "import pandas as pd\n",
    "import numpy as np\n",
    "import requests\n",
    "import gmaps\n",
    "import os\n",
    "import json\n",
    "import pymongo\n",
    "\n",
    "\n",
    "\n",
    "\n",
    "# Import API key\n",
    "from api_keys import g_key\n",
    "from api_keys import aqi_key"
   ]
  },
  {
   "cell_type": "code",
   "execution_count": null,
   "metadata": {},
   "outputs": [],
   "source": [
    "cities = pd.read_csv('300Cities.csv')\n",
    "#cities = pd.read_csv('300Cities_sample.csv')\n",
    "cities"
   ]
  },
  {
   "cell_type": "code",
   "execution_count": null,
   "metadata": {},
   "outputs": [],
   "source": [
    "status=[]\n",
    "Cityname=[]\n",
    "DominantPollutant=[]\n",
    "AQI=[]\n",
    "Pollutant=[]\n",
    "PM10=[]\n",
    "dew=[]\n",
    "humidity=[]\n",
    "NO2=[]\n",
    "PM2=[]\n",
    "SO2=[]\n",
    "CO=[]\n",
    "O3=[]\n",
    "URL=[]\n",
    "InputCity=[]\n",
    "Latitude=[]\n",
    "Longitude=[]\n",
    "datetime=[]\n",
    "\n",
    "for index,row in cities.iterrows():\n",
    "    city=row[\"city\"]\n",
    "    ptu_ids = f'100,101,102,103,104,105'\n",
    "    url = f'https://api.waqi.info/feed/{city.replace(\" \",\"%20\")}/?token={aqi_key}'\n",
    "    print(url)\n",
    "    response = requests.get(url).json()\n",
    "\n",
    "    try:\n",
    "        URL.append(url)\n",
    "        \n",
    "    except:\n",
    "        print(\"URL not found skipping\")\n",
    "        URL.append(\"NA\")\n",
    "    try:\n",
    "        InputCity.append(city)\n",
    "        \n",
    "    except:\n",
    "        print(\"InputCity not found skipping\")\n",
    "        InputCity.append(\"NA\")\n",
    "    try:\n",
    "        status.append(response[\"status\"])\n",
    "        \n",
    "    except:\n",
    "        print(\"Status not found skipping\")\n",
    "        status.append(\"NA\")\n",
    "        \n",
    "    \n",
    "    try:\n",
    "        Cityname.append(response[\"data\"][\"city\"][\"name\"])\n",
    "        \n",
    "    except:\n",
    "        print(\"Cityname not found skipping\")\n",
    "        Cityname.append(\"NA\")\n",
    "        #Cityname.append(lambda  x : 1 * 0)\n",
    "        \n",
    "    \n",
    "    try:\n",
    "        DominantPollutant.append(response[\"data\"][\"dominentpol\"])\n",
    "        \n",
    "    except:\n",
    "        print(\"DominantPollutant not found skipping\")\n",
    "        DominantPollutant.append(\"NA\")\n",
    "        \n",
    "    try:\n",
    "        AQI.append(response[\"data\"][\"aqi\"])\n",
    "        \n",
    "    except:\n",
    "        print(\"AQI not found skipping\")\n",
    "        AQI.append(\"NA\")\n",
    "        \n",
    "    \n",
    "    \n",
    "    \n",
    "    try:\n",
    "        PM10.append(response[\"data\"][\"iaqi\"][\"pm10\"][\"v\"])\n",
    "        \n",
    "    except:\n",
    "        print(\"PM10 not found skipping\")\n",
    "        PM10.append(0)\n",
    "        \n",
    "      \n",
    "    try:\n",
    "        dew.append(response['data']['iaqi']['dew'][\"v\"])\n",
    "        \n",
    "    except:\n",
    "        print(\"dew not found skipping\")\n",
    "        dew.append(0)\n",
    "        \n",
    "    try:\n",
    "        humidity.append(response['data']['iaqi']['h'][\"v\"])\n",
    "        \n",
    "    except:\n",
    "        print(\"humidity not found skipping\")\n",
    "        humidity.append(0)\n",
    "        \n",
    "    try:\n",
    "        NO2.append(response['data']['iaqi']['no2'][\"v\"])\n",
    "        \n",
    "    except:\n",
    "        print(\"NO2 not found skipping\")\n",
    "        NO2.append(0)\n",
    "        \n",
    "    try:\n",
    "        PM2.append(response['data']['iaqi']['pm25'][\"v\"])\n",
    "        \n",
    "    except:\n",
    "        print(\"PM2 not found skipping\")\n",
    "        PM2.append(0)\n",
    "        \n",
    "    try:\n",
    "        SO2.append(response['data']['iaqi']['so2'][\"v\"])\n",
    "        \n",
    "    except:\n",
    "        print(\"SO2 not found skipping\")\n",
    "        SO2.append(0)\n",
    "        \n",
    "    try:\n",
    "        CO.append(response['data']['iaqi']['co'][\"v\"])\n",
    "        \n",
    "    except:\n",
    "        print(\"CO not found skipping\")\n",
    "        CO.append(0)\n",
    "        \n",
    "    try:\n",
    "        O3.append(response['data']['iaqi']['o3'][\"v\"])\n",
    "        \n",
    "    except:\n",
    "        print(\"O3 not found skipping\")\n",
    "        O3.append(0)\n",
    "        \n",
    "    try:\n",
    "        Latitude.append(response['data']['city']['geo'][0])\n",
    "        \n",
    "    except:\n",
    "        print(\"Latitude not found skipping\")\n",
    "        Latitude.append(\"NA\")\n",
    "    \n",
    "    try:\n",
    "        Longitude.append(response['data']['city']['geo'][1])\n",
    "        \n",
    "    except:\n",
    "        print(\"Longitude not found skipping\")\n",
    "        Longitude.append(\"NA\")\n",
    "    try:\n",
    "        datetime.append(response['data']['time']['s'])\n",
    "        \n",
    "    except:\n",
    "        print(\"date not found skipping\")\n",
    "        datetime.append(\"NA\")\n",
    "        \n",
    "    \n",
    "\n",
    "    #time.sleep(3.01)\n",
    "\n",
    "\n",
    "\n",
    "  "
   ]
  },
  {
   "cell_type": "code",
   "execution_count": null,
   "metadata": {},
   "outputs": [],
   "source": [
    "# create a dictionary for establishing dataframe\n",
    "cityAQI_data = {\n",
    "\"names\":InputCity,\n",
    "    #\"metadata\":[{\n",
    "\"DominantPollutant\":DominantPollutant,\n",
    "\"aqi\":AQI,\n",
    "\"PM10\":PM10,\n",
    "\"dew\":dew,\n",
    "\"humidity\":humidity,\n",
    "\"NO2\":NO2,\n",
    "\"PM2\":PM2,\n",
    "\"SO2\":SO2,\n",
    "\"CO\":CO,\n",
    "\"O3\":O3,\n",
    "\"URL\":URL,\n",
    "\"Latitude\":Latitude,\n",
    "\"Longitude\":Longitude,\n",
    "\"datetime\":datetime,\n",
    "\n",
    "   # }]\n",
    "\n",
    "\n",
    "\n",
    "\n",
    "}\n",
    "\n",
    "cityAQI_data"
   ]
  },
  {
   "cell_type": "code",
   "execution_count": null,
   "metadata": {},
   "outputs": [],
   "source": [
    "city_airquality=pd.DataFrame(cityAQI_data)\n",
    "city_airquality['ptu_id_1']='100'\n",
    "city_airquality['ptu_id_2']='101'\n",
    "city_airquality['ptu_id_3']='102'\n",
    "city_airquality['ptu_id_4']='103'\n",
    "city_airquality['ptu_id_5']='104'\n",
    "city_airquality['ptu_id_6']='105'\n",
    "city_airquality['label_1']=f'\"CO\"'\n",
    "city_airquality['label_2']=f'\"NO2\"'\n",
    "city_airquality['label_3']=f'\"O3\"'\n",
    "city_airquality['label_4']=f'\"PM10\"'\n",
    "city_airquality['label_5']=f'\"PM25\"'\n",
    "city_airquality['label_6']=f'\"SO2\"'\n",
    "city_airquality['ptu_ids'] = \"[\" + city_airquality[\"ptu_id_1\"] +\",\"+ city_airquality[\"ptu_id_2\"] +\",\"+ city_airquality[\"ptu_id_3\"] +\",\"+ city_airquality[\"ptu_id_4\"] +\",\"+ city_airquality[\"ptu_id_5\"] +\",\"+ city_airquality[\"ptu_id_6\"] + \"]\"\n",
    "city_airquality['sample_values']= \"[\" + city_airquality[\"CO\"].map(str)+\",\"+city_airquality[\"NO2\"].map(str)+\",\"+city_airquality[\"O3\"].map(str)+\",\"+city_airquality[\"PM10\"].map(str)+\",\"+city_airquality[\"PM2\"].map(str)+\",\"+city_airquality[\"SO2\"].map(str)+ \"]\"\n",
    "city_airquality['ptu_labels']=\"[\" + city_airquality[\"label_1\"] +\",\"+ city_airquality[\"label_2\"] +\",\"+ city_airquality[\"label_3\"] +\",\"+ city_airquality[\"label_4\"] +\",\"+ city_airquality[\"label_5\"] +\",\"+ city_airquality[\"label_6\"] + \"]\"\n",
    "city_airquality"
   ]
  },
  {
   "cell_type": "code",
   "execution_count": null,
   "metadata": {},
   "outputs": [],
   "source": [
    "#city_airquality['aqi'] = pd.to_numeric(city_airquality['aqi'],errors='coerce')\n",
    "\n",
    "#city_airquality['sample_values'] = pd.to_str(city_airquality['sample_values'])\n",
    "city_airquality.dtypes"
   ]
  },
  {
   "cell_type": "code",
   "execution_count": null,
   "metadata": {},
   "outputs": [],
   "source": [
    "#Selecting only city names\n",
    "names_df = city_airquality[['names']]\n",
    "names_dict =names_df\n",
    "\n",
    "names_dict =names_df.to_dict('list')\n",
    "names_dict\n",
    "#list : {'names': ['Abidjan', 'ACCRA', 'Adana', 'ADDIS ABABA', 'Adelaide']}"
   ]
  },
  {
   "cell_type": "code",
   "execution_count": null,
   "metadata": {},
   "outputs": [],
   "source": [
    "metadata_df = city_airquality [['names','Latitude','Longitude','aqi','DominantPollutant','datetime']]\n",
    "metadata_dict = metadata_df\n",
    "metadata_dict = metadata_df.to_dict('records')\n",
    "metadata ={'metadata':metadata_dict}\n",
    "metadata\n",
    "\n"
   ]
  },
  {
   "cell_type": "code",
   "execution_count": null,
   "metadata": {},
   "outputs": [],
   "source": [
    "city_airquality"
   ]
  },
  {
   "cell_type": "code",
   "execution_count": null,
   "metadata": {},
   "outputs": [],
   "source": [
    "samples_df = city_airquality[['names','ptu_ids','sample_values','ptu_labels']]\n",
    "samples_df\n"
   ]
  },
  {
   "cell_type": "code",
   "execution_count": null,
   "metadata": {},
   "outputs": [],
   "source": [
    "samples_dict = samples_df.to_dict('records')\n",
    "samples ={'samples':samples_dict}\n",
    "samples\n"
   ]
  },
  {
   "cell_type": "code",
   "execution_count": null,
   "metadata": {},
   "outputs": [],
   "source": [
    "city_airquality.to_csv(\"citi_airquality.csv\")\n"
   ]
  },
  {
   "cell_type": "code",
   "execution_count": null,
   "metadata": {},
   "outputs": [],
   "source": [
    "Json_city_dict =city_airquality.to_dict('records')\n",
    "Json_city_dict"
   ]
  },
  {
   "cell_type": "code",
   "execution_count": null,
   "metadata": {},
   "outputs": [],
   "source": [
    "#names_dict\n",
    "#metadata\n",
    "#samples\n",
    "#dict1.update(dict2)\n",
    "json_object_1 = json.dumps(names_dict, indent = 4)   \n",
    "print(json_object_1)"
   ]
  },
  {
   "cell_type": "code",
   "execution_count": null,
   "metadata": {
    "scrolled": false
   },
   "outputs": [],
   "source": [
    "json_object_2 = json.dumps(metadata, indent = 4)   \n",
    "print(json_object_2)\n",
    "with open('metadata.json', 'w') as fp:\n",
    "    json.dump(json_object_2, fp)"
   ]
  },
  {
   "cell_type": "code",
   "execution_count": null,
   "metadata": {
    "scrolled": false
   },
   "outputs": [],
   "source": [
    "json_object_3 = json.dumps(samples, indent= 4)   \n",
    "print(json_object_3)\n",
    "with open('samples_data.json', 'w') as fp:\n",
    "    json.dump(json_object_3, fp)"
   ]
  },
  {
   "cell_type": "code",
   "execution_count": null,
   "metadata": {},
   "outputs": [],
   "source": [
    "conn = 'mongodb://localhost:27017'\n",
    "\n",
    "# Pass connection to the pymongo instance.\n",
    "client = pymongo.MongoClient(conn)\n",
    "db = client.citiesDB\n",
    "db.waqi_info.drop()\n",
    "waqi_info = db.waqi_metadata\n",
    "waqi_info.insert_many(metadata_dict)"
   ]
  },
  {
   "cell_type": "code",
   "execution_count": null,
   "metadata": {},
   "outputs": [],
   "source": [
    "conn = 'mongodb://localhost:27017'\n",
    "\n",
    "# Pass connection to the pymongo instance.\n",
    "client = pymongo.MongoClient(conn)\n",
    "db = client.citiesDB\n",
    "db.waqi_info.drop()\n",
    "waqi_info = db.waqi_samplesInfo\n",
    "waqi_info.insert_many(samples_dict)"
   ]
  }
 ],
 "metadata": {
  "kernelspec": {
   "display_name": "Python 3",
   "language": "python",
   "name": "python3"
  },
  "language_info": {
   "codemirror_mode": {
    "name": "ipython",
    "version": 3
   },
   "file_extension": ".py",
   "mimetype": "text/x-python",
   "name": "python",
   "nbconvert_exporter": "python",
   "pygments_lexer": "ipython3",
   "version": "3.7.4"
  }
 },
 "nbformat": 4,
 "nbformat_minor": 2
}
